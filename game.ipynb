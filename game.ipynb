{
 "cells": [
  {
   "cell_type": "code",
   "execution_count": null,
   "metadata": {},
   "outputs": [],
   "source": [
    "import random"
   ]
  },
  {
   "cell_type": "code",
   "execution_count": null,
   "metadata": {},
   "outputs": [],
   "source": [
    "size = 4\n",
    "permutation = random.sample(range(1, size+1), size)"
   ]
  },
  {
   "cell_type": "code",
   "execution_count": null,
   "metadata": {},
   "outputs": [],
   "source": [
    "guess = [1, 2, 3, 4]\n",
    "guess = [1, 2, 4, 3]\n",
    "guess = [4, 2, 3, 1]\n",
    "guess = [3, 1, 2, 4]\n",
    "\n",
    "correct_count = 0\n",
    "for i in range(size):\n",
    "    if guess[i] == permutation[i]:\n",
    "        correct_count += 1\n",
    "correct_count"
   ]
  }
 ],
 "metadata": {
  "language_info": {
   "name": "python"
  }
 },
 "nbformat": 4,
 "nbformat_minor": 2
}
